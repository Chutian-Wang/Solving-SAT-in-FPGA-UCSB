{
 "cells": [
  {
   "cell_type": "markdown",
   "metadata": {},
   "source": [
    "WalkSAT plus Data Analysis of Results, Daniel Espinosa 2024 UCSB ECE Strukov Group + FPGA copy\n"
   ]
  },
  {
   "cell_type": "markdown",
   "metadata": {},
   "source": [
    "![alt text](firefox_FtRzgqGGfO.png)[size:2]"
   ]
  },
  {
   "cell_type": "code",
   "execution_count": 1,
   "metadata": {},
   "outputs": [],
   "source": [
    "import numpy as np\n",
    "import pandas as pd\n",
    "import matplotlib.pyplot as plt\n",
    "import matplotlib as mpl\n",
    "from matplotlib.ticker import MultipleLocator,FormatStrFormatter,MaxNLocator\n",
    "import xml.etree.ElementTree as Xet"
   ]
  },
  {
   "cell_type": "code",
   "execution_count": 12,
   "metadata": {},
   "outputs": [
    {
     "name": "stdout",
     "output_type": "stream",
     "text": [
      "No satisfying assignment found within the given limits. FAIL\n"
     ]
    }
   ],
   "source": [
    "import random\n",
    "\n",
    "def walkSAT(clauses, max_tries, max_flips, p):\n",
    "    def evaluate_clause(clause, assignment):\n",
    "        return any((var > 0 and assignment.get(abs(var), False)) or \n",
    "                   (var < 0 and not assignment.get(abs(var), False)) for var in clause)\n",
    "\n",
    "    def get_unsatisfied_clauses(clauses, assignment):\n",
    "        return [clause for clause in clauses if not evaluate_clause(clause, assignment)]\n",
    "\n",
    "    def get_variables(clauses):\n",
    "        return set(abs(var) for clause in clauses for var in clause)\n",
    "\n",
    "    def flip_variable(assignment, var):\n",
    "        assignment[var] = not assignment[var]\n",
    "\n",
    "    for _ in range(max_tries):\n",
    "        variables = list(get_variables(clauses))\n",
    "        assignment = {var: random.choice([True, False]) for var in variables}\n",
    "        \n",
    "        for _ in range(max_flips):\n",
    "            unsatisfied = get_unsatisfied_clauses(clauses, assignment)\n",
    "            if not unsatisfied:\n",
    "                return assignment  # Found a satisfying assignment\n",
    "            \n",
    "            clause = random.choice(unsatisfied)\n",
    "            if random.random() < p:\n",
    "                # Flip a random variable from the clause\n",
    "                var_to_flip = abs(random.choice(clause))\n",
    "            else:\n",
    "                # Flip a variable that minimizes the number of unsatisfied clauses if flipped\n",
    "                break_counts = []\n",
    "                for var in clause:\n",
    "                    assignment[abs(var)] = not assignment[abs(var)]\n",
    "                    break_counts.append((len(get_unsatisfied_clauses(clauses, assignment)), abs(var)))\n",
    "                    assignment[abs(var)] = not assignment[abs(var)]  # Undo the flip\n",
    "\n",
    "                min_break = min(break_counts, key=lambda x: x[0])\n",
    "                vars_with_min_break = [var for break_count, var in break_counts if break_count == min_break[0]]\n",
    "                var_to_flip = random.choice(vars_with_min_break)\n",
    "            \n",
    "            flip_variable(assignment, var_to_flip)\n",
    "\n",
    "    return \"FAIL\"\n",
    "\n",
    "# Example SAT CNF formula: (x1 or not x2) and (not x1 or x2)\n",
    "clauses = [[1, -2],[-1,2]]\n",
    "# Example UNSAT CNF formula: \n",
    "clauses = [[1, 2],[-1,-2],[1,-2],[-1,2]]\n",
    "# Parameters\n",
    "max_tries = 100\n",
    "max_flips = 1000\n",
    "p = 0.3\n",
    "\n",
    "# Running WalkSAT\n",
    "result = walkSAT(clauses, max_tries, max_flips, p)\n",
    "print(\"Satisfying assignment found:\" if result != \"FAIL\" else \"No satisfying assignment found within the given limits.\", result)"
   ]
  }
 ],
 "metadata": {
  "kernelspec": {
   "display_name": "snn",
   "language": "python",
   "name": "python3"
  },
  "language_info": {
   "codemirror_mode": {
    "name": "ipython",
    "version": 3
   },
   "file_extension": ".py",
   "mimetype": "text/x-python",
   "name": "python",
   "nbconvert_exporter": "python",
   "pygments_lexer": "ipython3",
   "version": "3.12.2"
  }
 },
 "nbformat": 4,
 "nbformat_minor": 2
}
