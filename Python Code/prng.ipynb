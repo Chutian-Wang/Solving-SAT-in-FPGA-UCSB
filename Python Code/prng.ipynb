{
 "cells": [
  {
   "cell_type": "markdown",
   "metadata": {},
   "source": [
    "Generating large amounts of pseudorandom numbers based on PRNG"
   ]
  },
  {
   "cell_type": "code",
   "execution_count": 1,
   "metadata": {},
   "outputs": [],
   "source": [
    "import numpy as np\n",
    "import pandas as pd\n",
    "import matplotlib.pyplot as plt\n",
    "import matplotlib as mpl\n",
    "from matplotlib.ticker import MultipleLocator,FormatStrFormatter,MaxNLocator\n",
    "import xml.etree.ElementTree as Xet"
   ]
  },
  {
   "cell_type": "code",
   "execution_count": 3,
   "metadata": {},
   "outputs": [],
   "source": [
    "def lfsr(seed, taps, length):\n",
    "    \"\"\"Generate a LFSR sequence of a given length.\"\"\"\n",
    "    # Convert seed to binary representation with 32 bits\n",
    "    register = np.array([int(bit) for bit in f\"{seed:032b}\"], dtype=np.uint8)\n",
    "    output = np.empty(length, dtype=np.uint8)\n",
    "    \n",
    "    for i in range(length):\n",
    "        new_bit = np.bitwise_xor.reduce(register[taps])\n",
    "        # Shift the register and insert the new bit at the end\n",
    "        register[:-1] = register[1:]\n",
    "        register[-1] = new_bit\n",
    "        # Save output bit\n",
    "        output[i] = register[0]\n",
    "    \n",
    "    return output\n",
    "    \n",
    "def insert_sequence_into_db(cursor, taps, sequence):\n",
    "    \"\"\"Inserts the generated sequence into the database.\"\"\"\n",
    "    # Convert the sequence from np.array to a string representation of binary numbers\n",
    "    binary_str = ''.join(map(str, sequence))\n",
    "    taps_str = ','.join(map(str, taps))  # Convert taps list to string\n",
    "    cursor.execute('''\n",
    "        INSERT INTO kissat_data (taps, output_binary)\n",
    "        VALUES (?, ?)\n",
    "    ''', (taps_str, int(binary_str, 2)))  # Convert binary string to integer before storing\n"
   ]
  },
  {
   "cell_type": "code",
   "execution_count": 4,
   "metadata": {},
   "outputs": [],
   "source": [
    "import sqlite3\n",
    "#   Uncomment this to create your own local database, ideally with a different name for each solver\n",
    "\"\"\"\n",
    "conn = sqlite3.connect('prng_data.db')\n",
    "cursor = conn.cursor()\n",
    "\n",
    "# Also change here!\n",
    "cursor.execute('''\n",
    "    CREATE TABLE IF NOT EXISTS kissat_data ( \n",
    "        id INTEGER PRIMARY KEY,\n",
    "        taps TEXT,\n",
    "        output_binary INTEGER\n",
    "    )\n",
    "''')\n",
    "\n",
    "# Close the connection\n",
    "conn.close()\n",
    "\"\"\"\n"
   ]
  },
  {
   "cell_type": "code",
   "execution_count": null,
   "metadata": {},
   "outputs": [],
   "source": [
    "# Connect to SQLite database\n",
    "conn = sqlite3.connect('prng_data.db')\n",
    "cursor = conn.cursor()\n",
    "\n",
    "# Parameters for LFSR\n",
    "seeds = [1]  # You can add more seeds if you want to generate more sequences\n",
    "taps_list = [[31, 30, 1, 0],]  # First is what we use, second is XORMIX (soon)\n",
    "length = 1000  # Length of the sequence to generate\n",
    "\n",
    "# Generate and insert sequences into the database\n",
    "for seed in seeds:\n",
    "    for taps in taps_list:\n",
    "        sequence = lfsr(seed, taps, length)\n",
    "        insert_sequence_into_db(cursor, taps, sequence)\n",
    "\n",
    "# Commit changes and close the connection\n",
    "conn.commit()\n",
    "conn.close()"
   ]
  }
 ],
 "metadata": {
  "kernelspec": {
   "display_name": "tf",
   "language": "python",
   "name": "python3"
  },
  "language_info": {
   "codemirror_mode": {
    "name": "ipython",
    "version": 3
   },
   "file_extension": ".py",
   "mimetype": "text/x-python",
   "name": "python",
   "nbconvert_exporter": "python",
   "pygments_lexer": "ipython3",
   "version": "3.7.7"
  }
 },
 "nbformat": 4,
 "nbformat_minor": 2
}
