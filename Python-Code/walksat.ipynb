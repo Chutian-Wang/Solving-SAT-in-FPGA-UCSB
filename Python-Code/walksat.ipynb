{
 "cells": [
  {
   "cell_type": "markdown",
   "metadata": {},
   "source": [
    "### WalkSAT plus Data Analysis of Results, Daniel Espinosa 2024 UCSB ECE Strukov Group + FPGA copy\n"
   ]
  },
  {
   "cell_type": "code",
   "execution_count": 1,
   "metadata": {},
   "outputs": [],
   "source": [
    "import numpy as np\n",
    "import pandas as pd\n",
    "import matplotlib.pyplot as plt\n",
    "import matplotlib as mpl\n",
    "from matplotlib.ticker import MultipleLocator,FormatStrFormatter,MaxNLocator\n",
    "import xml.etree.ElementTree as Xet"
   ]
  },
  {
   "cell_type": "code",
   "execution_count": 2,
   "metadata": {},
   "outputs": [
    {
     "name": "stdout",
     "output_type": "stream",
     "text": [
      "No satisfying assignment found within the given limits. FAIL\n"
     ]
    }
   ],
   "source": [
    "import random\n",
    "\n",
    "def walkSAT(clauses, max_tries, max_flips, p):\n",
    "    def evaluate_clause(clause, assignment):\n",
    "        return any((var > 0 and assignment.get(abs(var), False)) or \n",
    "                   (var < 0 and not assignment.get(abs(var), False)) for var in clause)\n",
    "\n",
    "    def get_unsatisfied_clauses(clauses, assignment):\n",
    "        return [clause for clause in clauses if not evaluate_clause(clause, assignment)]\n",
    "\n",
    "    def get_variables(clauses):\n",
    "        return set(abs(var) for clause in clauses for var in clause)\n",
    "\n",
    "    def flip_variable(assignment, var):\n",
    "        assignment[var] = not assignment[var]\n",
    "\n",
    "    for _ in range(max_tries):\n",
    "        variables = list(get_variables(clauses))\n",
    "        assignment = {var: random.choice([True, False]) for var in variables}\n",
    "        \n",
    "        for _ in range(max_flips):\n",
    "            unsatisfied = get_unsatisfied_clauses(clauses, assignment)\n",
    "            if not unsatisfied:\n",
    "                return assignment  # Found a satisfying assignment\n",
    "            \n",
    "            clause = random.choice(unsatisfied)\n",
    "            if random.random() < p:\n",
    "                # Flip a random variable from the clause\n",
    "                var_to_flip = abs(random.choice(clause))\n",
    "            else:\n",
    "                # Flip a variable that minimizes the number of unsatisfied clauses if flipped\n",
    "                break_counts = []\n",
    "                for var in clause:\n",
    "                    assignment[abs(var)] = not assignment[abs(var)]\n",
    "                    break_counts.append((len(get_unsatisfied_clauses(clauses, assignment)), abs(var)))\n",
    "                    assignment[abs(var)] = not assignment[abs(var)]  # Undo the flip\n",
    "\n",
    "                min_break = min(break_counts, key=lambda x: x[0])\n",
    "                vars_with_min_break = [var for break_count, var in break_counts if break_count == min_break[0]]\n",
    "                var_to_flip = random.choice(vars_with_min_break)\n",
    "            \n",
    "            flip_variable(assignment, var_to_flip)\n",
    "\n",
    "    return \"FAIL\"\n",
    "\n",
    "# Example SAT CNF formula: (x1 or not x2) and (not x1 or x2)\n",
    "# clauses = [[1, -2],[-1,2]]\n",
    "# Example UNSAT CNF formula: \n",
    "clauses = [[1, 2],[-1,-2],[1,-2],[-1,2]]\n",
    "# Parameters\n",
    "max_tries = 100\n",
    "max_flips = 1000\n",
    "p = 0.3\n",
    "\n",
    "# Running WalkSAT\n",
    "result = walkSAT(clauses, max_tries, max_flips, p)\n",
    "print(\"Satisfying assignment found:\" if result != \"FAIL\" else \"No satisfying assignment found within the given limits.\", result)"
   ]
  },
  {
   "cell_type": "markdown",
   "metadata": {},
   "source": [
    "Now, structuring this based on the PDF using binary values for everything"
   ]
  },
  {
   "cell_type": "code",
   "execution_count": 3,
   "metadata": {},
   "outputs": [],
   "source": [
    "def parse_cnf_file(file_path):\n",
    "    num_vars = 0\n",
    "    num_clauses = 0\n",
    "    clauses = []\n",
    "\n",
    "    with open(file_path, 'r') as file:\n",
    "        for line in file:\n",
    "            # Strip leading and trailing whitespace\n",
    "            line = line.strip()\n",
    "\n",
    "            # Ignore comment lines\n",
    "            if line.startswith('c'):\n",
    "                continue\n",
    "            \n",
    "            # Process the problem line\n",
    "            elif line.startswith('p'):\n",
    "                parts = line.split()\n",
    "                if len(parts) == 4 and parts[1] == 'cnf':\n",
    "                    num_vars = int(parts[2])\n",
    "                    num_clauses = int(parts[3])\n",
    "            \n",
    "            # Process clause lines\n",
    "            else:\n",
    "                # Convert numbers to integers and remove the trailing 0\n",
    "                clause = [int(x) for x in line.split()[:-1]]\n",
    "                clauses.append(clause)\n",
    "    \n",
    "    return num_vars, num_clauses, clauses\n",
    "\n",
    "def random_assignment(cnf):\n",
    "    # cnf.variables is an iterable of variable identifiers\n",
    "    return {var: random.choice([1, 0]) for var in cnf.variables}"
   ]
  },
  {
   "cell_type": "code",
   "execution_count": 115,
   "metadata": {},
   "outputs": [],
   "source": [
    "parse_cnf_file('mnci_n16_t3_0_3sat.cnf')\n",
    "\n",
    "class CNF:\n",
    "    def __init__(self, num_vars, num_clauses, clauses):\n",
    "        self.num_vars = num_vars\n",
    "        self.num_clauses = num_clauses\n",
    "        self.clauses = clauses\n",
    "\n",
    "    def __str__(self,verbose=False):\n",
    "        description = f\"CNF Formula with {self.num_vars} variables and {self.num_clauses} clauses:\\n\"\n",
    "        if verbose: \n",
    "            for clause in self.clauses:\n",
    "                description += \" \".join(str(var) for var in clause) + \" 0\\n\"\n",
    "        return description\n",
    "\n",
    "    def variables(self):\n",
    "        return range(self.num_vars)\n",
    "    \n",
    "    def random_assignment(self):\n",
    "        return [random.choice([0, 1]) for var in CNF.variables(self)]\n",
    "    \n",
    "    def variable_membership(self):\n",
    "        # We are making this so we can quickly make a LUT to see where variables are\n",
    "        # To update only parts of the CNF and not handle the whole thing at once.\n",
    "        # Maps each variable to the clauses it appears in (by index)\n",
    "        \"\"\"\n",
    "        Usage: cnf.variable_membership.get(literal_integer) gives us all the clause\n",
    "        numbers that the literal is a part of. Once we have all the memberships\n",
    "        we can encode them to a single binary number later.\n",
    "        \"\"\"\n",
    "        membership = {var: [] for var in self.variables()}\n",
    "        for clause_index, clause in enumerate(self.clauses):\n",
    "            for var in clause:\n",
    "                var = abs(var)  # Consider the variable, not its negation\n",
    "                if var in membership:\n",
    "                    membership[var].append(clause_index)\n",
    "        return membership\n",
    "\n",
    "    def add_clause(self, clause):\n",
    "        self.clauses.append(clause)\n",
    "        self.num_clauses += 1"
   ]
  },
  {
   "cell_type": "code",
   "execution_count": 116,
   "metadata": {},
   "outputs": [],
   "source": [
    "outputs = parse_cnf_file('mnci_n16_t3_0_3sat.cnf')\n",
    "cnf = CNF(outputs[0],outputs[1],outputs[2])"
   ]
  },
  {
   "cell_type": "code",
   "execution_count": 117,
   "metadata": {},
   "outputs": [
    {
     "data": {
      "text/plain": [
       "'CNF Formula with 232 variables and 619 clauses:\\n17 13 0\\n-17 -13 0\\n20 16 0\\n-20 -16 0\\n25 16 0\\n-25 -16 0\\n30 15 0\\n-30 -15 0\\n35 14 0\\n-35 -14 0\\n42 15 0\\n-42 -15 0\\n-47 16 0\\n47 -16 0\\n51 16 0\\n-51 -16 0\\n57 15 0\\n-57 -15 0\\n-63 16 0\\n63 -16 0\\n71 13 0\\n-71 -13 0\\n75 15 0\\n-75 -15 0\\n1 2 -31 0\\n1 -2 31 0\\n-1 2 31 0\\n-1 -2 -31 0\\n1 3 -21 0\\n1 -3 21 0\\n-1 3 21 0\\n-1 -3 -21 0\\n1 5 -52 0\\n1 -5 52 0\\n-1 5 52 0\\n-1 -5 -52 0\\n2 3 -43 0\\n2 -3 43 0\\n-2 3 43 0\\n-2 -3 -43 0\\n2 5 -26 0\\n2 -5 26 0\\n-2 5 26 0\\n-2 -5 -26 0\\n3 7 -18 0\\n3 -7 18 0\\n-3 7 18 0\\n-3 -7 -18 0\\n4 8 -48 0\\n4 -8 48 0\\n-4 8 48 0\\n-4 -8 -48 0\\n7 9 -17 0\\n7 -9 17 0\\n-7 9 17 0\\n-7 -9 -17 0\\n18 12 -19 0\\n18 -12 19 0\\n-18 12 19 0\\n-18 -12 -19 0\\n19 14 -20 0\\n19 -14 20 0\\n-19 14 20 0\\n-19 -14 -20 0\\n21 5 -22 0\\n21 -5 22 0\\n-21 5 22 0\\n-21 -5 -22 0\\n22 9 -23 0\\n22 -9 23 0\\n-22 9 23 0\\n-22 -9 -23 0\\n23 10 -24 0\\n23 -10 24 0\\n-23 10 24 0\\n-23 -10 -24 0\\n24 15 -25 0\\n24 -15 25 0\\n-24 15 25 0\\n-24 -15 -25 0\\n26 6 -27 0\\n26 -6 27 0\\n-26 6 27 0\\n-26 -6 -27 0\\n27 8 -28 0\\n27 -8 28 0\\n-27 8 28 0\\n-27 -8 -28 0\\n28 10 -29 0\\n28 -10 29 0\\n-28 10 29 0\\n-28 -10 -29 0\\n29 14 -30 0\\n29 -14 30 0\\n-29 14 30 0\\n-29 -14 -30 0\\n31 3 -32 0\\n31 -3 32 0\\n-31 3 32 0\\n-31 -3 -32 0\\n31 4 -36 0\\n31 -4 36 0\\n-31 4 36 0\\n-31 -4 -36 0\\n31 5 -58 0\\n31 -5 58 0\\n-31 5 58 0\\n-31 -5 -58 0\\n32 4 -64 0\\n32 -4 64 0\\n-32 4 64 0\\n-32 -4 -64 0\\n32 5 -72 0\\n32 -5 72 0\\n-32 5 72 0\\n-32 -5 -72 0\\n32 7 -33 0\\n32 -7 33 0\\n-32 7 33 0\\n-32 -7 -33 0\\n33 8 -34 0\\n33 -8 34 0\\n-33 8 34 0\\n-33 -8 -34 0\\n34 12 -35 0\\n34 -12 35 0\\n-34 12 35 0\\n-34 -12 -35 0\\n36 5 -37 0\\n36 -5 37 0\\n-36 5 37 0\\n-36 -5 -37 0\\n37 7 -38 0\\n37 -7 38 0\\n-37 7 38 0\\n-37 -7 -38 0\\n38 8 -39 0\\n38 -8 39 0\\n-38 8 39 0\\n-38 -8 -39 0\\n39 10 -40 0\\n39 -10 40 0\\n-39 10 40 0\\n-39 -10 -40 0\\n40 12 -41 0\\n40 -12 41 0\\n-40 12 41 0\\n-40 -12 -41 0\\n41 13 -42 0\\n41 -13 42 0\\n-41 13 42 0\\n-41 -13 -42 0\\n43 5 -44 0\\n43 -5 44 0\\n-43 5 44 0\\n-43 -5 -44 0\\n44 6 -45 0\\n44 -6 45 0\\n-44 6 45 0\\n-44 -6 -45 0\\n45 10 -46 0\\n45 -10 46 0\\n-45 10 46 0\\n-45 -10 -46 0\\n46 15 -47 0\\n46 -15 47 0\\n-46 15 47 0\\n-46 -15 -47 0\\n48 10 -49 0\\n48 -10 49 0\\n-48 10 49 0\\n-48 -10 -49 0\\n49 14 -50 0\\n49 -14 50 0\\n-49 14 50 0\\n-49 -14 -50 0\\n50 15 -51 0\\n50 -15 51 0\\n-50 15 51 0\\n-50 -15 -51 0\\n52 6 -53 0\\n52 -6 53 0\\n-52 6 53 0\\n-52 -6 -53 0\\n53 9 -54 0\\n53 -9 54 0\\n-53 9 54 0\\n-53 -9 -54 0\\n54 11 -55 0\\n54 -11 55 0\\n-54 11 55 0\\n-54 -11 -55 0\\n55 12 -56 0\\n55 -12 56 0\\n-55 12 56 0\\n-55 -12 -56 0\\n56 14 -57 0\\n56 -14 57 0\\n-56 14 57 0\\n-56 -14 -57 0\\n58 6 -59 0\\n58 -6 59 0\\n-58 6 59 0\\n-58 -6 -59 0\\n59 7 -60 0\\n59 -7 60 0\\n-59 7 60 0\\n-59 -7 -60 0\\n60 8 -61 0\\n60 -8 61 0\\n-60 8 61 0\\n-60 -8 -61 0\\n61 12 -62 0\\n61 -12 62 0\\n-61 12 62 0\\n-61 -12 -62 0\\n62 13 -63 0\\n62 -13 63 0\\n-62 13 63 0\\n-62 -13 -63 0\\n64 5 -65 0\\n64 -5 65 0\\n-64 5 65 0\\n-64 -5 -65 0\\n65 7 -66 0\\n65 -7 66 0\\n-65 7 66 0\\n-65 -7 -66 0\\n66 8 -67 0\\n66 -8 67 0\\n-66 8 67 0\\n-66 -8 -67 0\\n67 9 -68 0\\n67 -9 68 0\\n-67 9 68 0\\n-67 -9 -68 0\\n68 10 -69 0\\n68 -10 69 0\\n-68 10 69 0\\n-68 -10 -69 0\\n69 11 -70 0\\n69 -11 70 0\\n-69 11 70 0\\n-69 -11 -70 0\\n70 12 -71 0\\n70 -12 71 0\\n-70 12 71 0\\n-70 -12 -71 0\\n72 7 -73 0\\n72 -7 73 0\\n-72 7 73 0\\n-72 -7 -73 0\\n73 12 -74 0\\n73 -12 74 0\\n-73 12 74 0\\n-73 -12 -74 0\\n74 14 -75 0\\n74 -14 75 0\\n-74 14 75 0\\n-74 -14 -75 0\\n-1 -2 -76 0\\n1 2 -76 0\\n1 -2 76 0\\n-1 2 76 0\\n-1 -2 77 0\\n1 -77 0\\n2 -77 0\\n-76 -3 -78 0\\n76 3 -78 0\\n76 -3 78 0\\n-76 3 78 0\\n-76 -3 79 0\\n76 -79 0\\n3 -79 0\\n-77 -79 -80 0\\n77 79 -80 0\\n77 -79 80 0\\n-77 79 80 0\\n-77 -79 81 0\\n77 -81 0\\n79 -81 0\\n-81 0\\n-78 -4 -82 0\\n78 4 -82 0\\n78 -4 82 0\\n-78 4 82 0\\n-78 -4 83 0\\n78 -83 0\\n4 -83 0\\n-80 -83 -84 0\\n80 83 -84 0\\n80 -83 84 0\\n-80 83 84 0\\n-80 -83 85 0\\n80 -85 0\\n83 -85 0\\n-82 -5 -86 0\\n82 5 -86 0\\n82 -5 86 0\\n-82 5 86 0\\n-82 -5 87 0\\n82 -87 0\\n5 -87 0\\n-84 -87 -88 0\\n84 87 -88 0\\n84 -87 88 0\\n-84 87 88 0\\n-84 -87 89 0\\n84 -89 0\\n87 -89 0\\n-85 -89 -90 0\\n85 89 -90 0\\n85 -89 90 0\\n-85 89 90 0\\n-85 -89 91 0\\n85 -91 0\\n89 -91 0\\n-91 0\\n-86 -6 -92 0\\n86 6 -92 0\\n86 -6 92 0\\n-86 6 92 0\\n-86 -6 93 0\\n86 -93 0\\n6 -93 0\\n-88 -93 -94 0\\n88 93 -94 0\\n88 -93 94 0\\n-88 93 94 0\\n-88 -93 95 0\\n88 -95 0\\n93 -95 0\\n-90 -95 -96 0\\n90 95 -96 0\\n90 -95 96 0\\n-90 95 96 0\\n-90 -95 97 0\\n90 -97 0\\n95 -97 0\\n-97 0\\n-92 -7 -98 0\\n92 7 -98 0\\n92 -7 98 0\\n-92 7 98 0\\n-92 -7 99 0\\n92 -99 0\\n7 -99 0\\n-94 -99 -100 0\\n94 99 -100 0\\n94 -99 100 0\\n-94 99 100 0\\n-94 -99 101 0\\n94 -101 0\\n99 -101 0\\n-96 -101 -102 0\\n96 101 -102 0\\n96 -101 102 0\\n-96 101 102 0\\n-96 -101 103 0\\n96 -103 0\\n101 -103 0\\n-103 0\\n-98 -8 -104 0\\n98 8 -104 0\\n98 -8 104 0\\n-98 8 104 0\\n-98 -8 105 0\\n98 -105 0\\n8 -105 0\\n-100 -105 -106 0\\n100 105 -106 0\\n100 -105 106 0\\n-100 105 106 0\\n-100 -105 107 0\\n100 -107 0\\n105 -107 0\\n-102 -107 -108 0\\n102 107 -108 0\\n102 -107 108 0\\n-102 107 108 0\\n-102 -107 109 0\\n102 -109 0\\n107 -109 0\\n-104 -9 -110 0\\n104 9 -110 0\\n104 -9 110 0\\n-104 9 110 0\\n-104 -9 111 0\\n104 -111 0\\n9 -111 0\\n-106 -111 -112 0\\n106 111 -112 0\\n106 -111 112 0\\n-106 111 112 0\\n-106 -111 113 0\\n106 -113 0\\n111 -113 0\\n-108 -113 -114 0\\n108 113 -114 0\\n108 -113 114 0\\n-108 113 114 0\\n-108 -113 115 0\\n108 -115 0\\n113 -115 0\\n-109 -115 -116 0\\n109 115 -116 0\\n109 -115 116 0\\n-109 115 116 0\\n-109 -115 117 0\\n109 -117 0\\n115 -117 0\\n-117 0\\n-110 -10 -118 0\\n110 10 -118 0\\n110 -10 118 0\\n-110 10 118 0\\n-110 -10 119 0\\n110 -119 0\\n10 -119 0\\n-112 -119 -120 0\\n112 119 -120 0\\n112 -119 120 0\\n-112 119 120 0\\n-112 -119 121 0\\n112 -121 0\\n119 -121 0\\n-114 -121 -122 0\\n114 121 -122 0\\n114 -121 122 0\\n-114 121 122 0\\n-114 -121 123 0\\n114 -123 0\\n121 -123 0\\n-116 -123 -124 0\\n116 123 -124 0\\n116 -123 124 0\\n-116 123 124 0\\n-116 -123 125 0\\n116 -125 0\\n123 -125 0\\n-125 0\\n-118 -11 -126 0\\n118 11 -126 0\\n118 -11 126 0\\n-118 11 126 0\\n-118 -11 127 0\\n118 -127 0\\n11 -127 0\\n-120 -127 -128 0\\n120 127 -128 0\\n120 -127 128 0\\n-120 127 128 0\\n-120 -127 129 0\\n120 -129 0\\n127 -129 0\\n-122 -129 -130 0\\n122 129 -130 0\\n122 -129 130 0\\n-122 129 130 0\\n-122 -129 131 0\\n122 -131 0\\n129 -131 0\\n-124 -131 -132 0\\n124 131 -132 0\\n124 -131 132 0\\n-124 131 132 0\\n-124 -131 133 0\\n124 -133 0\\n131 -133 0\\n-133 0\\n-126 -12 -134 0\\n126 12 -134 0\\n126 -12 134 0\\n-126 12 134 0\\n-126 -12 135 0\\n126 -135 0\\n12 -135 0\\n-128 -135 -136 0\\n128 135 -136 0\\n128 -135 136 0\\n-128 135 136 0\\n-128 -135 137 0\\n128 -137 0\\n135 -137 0\\n-130 -137 -138 0\\n130 137 -138 0\\n130 -137 138 0\\n-130 137 138 0\\n-130 -137 139 0\\n130 -139 0\\n137 -139 0\\n-132 -139 -140 0\\n132 139 -140 0\\n132 -139 140 0\\n-132 139 140 0\\n-132 -139 141 0\\n132 -141 0\\n139 -141 0\\n-141 0\\n-134 -13 -142 0\\n134 13 -142 0\\n134 -13 142 0\\n-134 13 142 0\\n-134 -13 143 0\\n134 -143 0\\n13 -143 0\\n-136 -143 -144 0\\n136 143 -144 0\\n136 -143 144 0\\n-136 143 144 0\\n-136 -143 145 0\\n136 -145 0\\n143 -145 0\\n-138 -145 -146 0\\n138 145 -146 0\\n138 -145 146 0\\n-138 145 146 0\\n-138 -145 147 0\\n138 -147 0\\n145 -147 0\\n-140 -147 -148 0\\n140 147 -148 0\\n140 -147 148 0\\n-140 147 148 0\\n-140 -147 149 0\\n140 -149 0\\n147 -149 0\\n-149 0\\n-142 -14 -150 0\\n142 14 -150 0\\n142 -14 150 0\\n-142 14 150 0\\n-142 -14 151 0\\n142 -151 0\\n14 -151 0\\n-144 -151 -152 0\\n144 151 -152 0\\n144 -151 152 0\\n-144 151 152 0\\n-144 -151 153 0\\n144 -153 0\\n151 -153 0\\n-146 -153 -154 0\\n146 153 -154 0\\n146 -153 154 0\\n-146 153 154 0\\n-146 -153 155 0\\n146 -155 0\\n153 -155 0\\n-148 -155 -156 0\\n148 155 -156 0\\n148 -155 156 0\\n-148 155 156 0\\n-148 -155 157 0\\n148 -157 0\\n155 -157 0\\n-157 0\\n-150 -15 -158 0\\n150 15 -158 0\\n150 -15 158 0\\n-150 15 158 0\\n-150 -15 159 0\\n150 -159 0\\n15 -159 0\\n-152 -159 -160 0\\n152 159 -160 0\\n152 -159 160 0\\n-152 159 160 0\\n-152 -159 161 0\\n152 -161 0\\n159 -161 0\\n-154 -161 -162 0\\n154 161 -162 0\\n154 -161 162 0\\n-154 161 162 0\\n-154 -161 163 0\\n154 -163 0\\n161 -163 0\\n-156 -163 -164 0\\n156 163 -164 0\\n156 -163 164 0\\n-156 163 164 0\\n-156 -163 165 0\\n156 -165 0\\n163 -165 0\\n-165 0\\n-158 -16 -166 0\\n158 16 -166 0\\n158 -16 166 0\\n-158 16 166 0\\n-158 -16 167 0\\n158 -167 0\\n16 -167 0\\n-160 -167 -168 0\\n160 167 -168 0\\n160 -167 168 0\\n-160 167 168 0\\n-160 -167 169 0\\n160 -169 0\\n167 -169 0\\n-162 -169 -170 0\\n162 169 -170 0\\n162 -169 170 0\\n-162 169 170 0\\n-162 -169 171 0\\n162 -171 0\\n169 -171 0\\n-164 -171 -172 0\\n164 171 -172 0\\n164 -171 172 0\\n-164 171 172 0\\n-164 -171 173 0\\n164 -173 0\\n171 -173 0\\n166 0\\n168 0\\n-170 0\\n-172 0\\n-173 0\\n'"
      ]
     },
     "execution_count": 117,
     "metadata": {},
     "output_type": "execute_result"
    }
   ],
   "source": [
    "cnf.__str__(verbose=True)"
   ]
  },
  {
   "cell_type": "code",
   "execution_count": 64,
   "metadata": {},
   "outputs": [
    {
     "data": {
      "text/plain": [
       "[24, 25, 26, 27, 28, 29, 30, 31, 32, 33, 34, 35, 260, 261, 262, 263, 264, 265]"
      ]
     },
     "execution_count": 64,
     "metadata": {},
     "output_type": "execute_result"
    }
   ],
   "source": [
    "cnf.variable_membership().get(1)"
   ]
  },
  {
   "cell_type": "code",
   "execution_count": 66,
   "metadata": {},
   "outputs": [],
   "source": [
    "start = cnf.random_assignment() "
   ]
  },
  {
   "cell_type": "code",
   "execution_count": 68,
   "metadata": {},
   "outputs": [
    {
     "data": {
      "text/plain": [
       "0"
      ]
     },
     "execution_count": 68,
     "metadata": {},
     "output_type": "execute_result"
    }
   ],
   "source": [
    "start[10]"
   ]
  },
  {
   "cell_type": "code",
   "execution_count": 72,
   "metadata": {},
   "outputs": [
    {
     "data": {
      "text/plain": [
       "[17, 13]"
      ]
     },
     "execution_count": 72,
     "metadata": {},
     "output_type": "execute_result"
    }
   ],
   "source": [
    "cnf.clauses[0]"
   ]
  },
  {
   "cell_type": "code",
   "execution_count": 107,
   "metadata": {},
   "outputs": [
    {
     "name": "stdout",
     "output_type": "stream",
     "text": [
      "True\n"
     ]
    },
    {
     "data": {
      "text/plain": [
       "[[20, 16],\n",
       " [30, 15],\n",
       " [35, 14],\n",
       " [-47, 16],\n",
       " [-18, -12, -19],\n",
       " [-19, 14, 20],\n",
       " [21, 5, -22],\n",
       " [-23, 10, 24],\n",
       " [24, 15, -25],\n",
       " [26, 6, -27],\n",
       " [-29, 14, 30],\n",
       " [31, 3, -32],\n",
       " [31, 4, -36],\n",
       " [31, 5, -58],\n",
       " [-32, 4, 64],\n",
       " [-32, 5, 72],\n",
       " [-32, -7, -33],\n",
       " [-33, 8, 34],\n",
       " [34, -12, 35],\n",
       " [-36, 5, 37],\n",
       " [-39, 10, 40],\n",
       " [40, -12, 41],\n",
       " [41, 13, -42],\n",
       " [45, 10, -46],\n",
       " [50, 15, -51],\n",
       " [52, 6, -53],\n",
       " [-54, -11, -55],\n",
       " [56, 14, -57],\n",
       " [-58, 6, 59],\n",
       " [-60, 8, 61],\n",
       " [-62, 13, 63],\n",
       " [64, 5, -65],\n",
       " [68, 10, -69],\n",
       " [-69, -11, -70],\n",
       " [-70, -12, -71],\n",
       " [74, 14, -75],\n",
       " [1, 2, -76],\n",
       " [3, -79],\n",
       " [77, -81],\n",
       " [-81],\n",
       " [-82, 5, 86],\n",
       " [5, -87],\n",
       " [-84, -87, -88],\n",
       " [-84, -87, 89],\n",
       " [85, 89, -90],\n",
       " [85, -91],\n",
       " [89, -91],\n",
       " [-91],\n",
       " [86, 6, -92],\n",
       " [-88, 93, 94],\n",
       " [95, -97],\n",
       " [-97],\n",
       " [-92, -7, -98],\n",
       " [94, -99, 100],\n",
       " [-96, 101, 102],\n",
       " [101, -103],\n",
       " [-103],\n",
       " [8, -105],\n",
       " [100, -105, 106],\n",
       " [100, -107],\n",
       " [102, -107, 108],\n",
       " [-104, 9, 110],\n",
       " [9, -111],\n",
       " [108, 113, -114],\n",
       " [108, -115],\n",
       " [113, -115],\n",
       " [109, -115, 116],\n",
       " [109, -117],\n",
       " [-117],\n",
       " [110, 10, -118],\n",
       " [110, -119],\n",
       " [10, -119],\n",
       " [-112, -119, -120],\n",
       " [116, -123, 124],\n",
       " [-118, -11, -126],\n",
       " [-118, -11, 127],\n",
       " [122, 129, -130],\n",
       " [122, -131],\n",
       " [129, -131],\n",
       " [124, -133],\n",
       " [-133],\n",
       " [-126, -12, -134],\n",
       " [-126, -12, 135],\n",
       " [-128, 135, 136],\n",
       " [-130, 137, 138],\n",
       " [-132, 139, 140],\n",
       " [13, -143],\n",
       " [136, -145],\n",
       " [138, -145, 146],\n",
       " [140, -149],\n",
       " [147, -149],\n",
       " [-149],\n",
       " [146, -155],\n",
       " [153, -155],\n",
       " [148, -155, 156],\n",
       " [148, -157],\n",
       " [-157],\n",
       " [-150, 15, 158],\n",
       " [-152, 159, 160],\n",
       " [159, -161],\n",
       " [154, -161, 162],\n",
       " [156, 163, -164],\n",
       " [156, -165],\n",
       " [163, -165],\n",
       " [-165],\n",
       " [158, 16, -166],\n",
       " [160, 167, -168],\n",
       " [160, -169],\n",
       " [167, -169],\n",
       " [162, -171],\n",
       " [-164, -171, -172],\n",
       " [-170],\n",
       " [-172],\n",
       " [-173]]"
      ]
     },
     "execution_count": 107,
     "metadata": {},
     "output_type": "execute_result"
    }
   ],
   "source": [
    "membership_dictionary = cnf.variable_membership()\n",
    "#[x in range(10), cnf.clauses[membership_dictionary.get(1)[x]]]\n",
    "\n",
    "start = cnf.random_assignment() \n",
    "testclause = cnf.clauses[0]\n",
    "\n",
    "def evaluate_clause(clause, assignment):\n",
    "    return any((var > 0 and assignment[abs(var) - 1]) or \n",
    "               (var < 0 and not assignment[abs(var) - 1]) for var in clause)\n",
    "\n",
    "def get_unsatisfied_clauses(clauses, assignment):\n",
    "    # We are doing this to build the UNSAT buffer for the algorithm\n",
    "    return [clause for clause in clauses if not evaluate_clause(clause, assignment)]\n",
    "\n",
    "print(evaluate_clause(testclause, start))\n",
    "get_unsatisfied_clauses(cnf.clauses, start)"
   ]
  },
  {
   "cell_type": "code",
   "execution_count": 142,
   "metadata": {},
   "outputs": [
    {
     "name": "stdout",
     "output_type": "stream",
     "text": [
      "b\n"
     ]
    }
   ],
   "source": [
    "break_counts = [(5, 'a'), (3, 'b'), (4, 'c')]\n",
    "min_break_count = min(break_counts, key=lambda x: x[0])\n",
    "print(min_break_count[1])  # Output: (3, 'b')"
   ]
  },
  {
   "cell_type": "code",
   "execution_count": 139,
   "metadata": {},
   "outputs": [],
   "source": [
    "# Now, complete method which is an exact copy of what they are doing in the paper.\n",
    "\n",
    "def evaluate_clause(clause, assignment):\n",
    "    \n",
    "    return any((var > 0 and assignment[abs(var) - 1]) or \n",
    "               (var < 0 and not assignment[abs(var) - 1]) for var in clause)\n",
    "\n",
    "def flip_variable(assignment, var):\n",
    "    #first element is named '1' not '0'\n",
    "    assignment[var-1] = not assignment[var-1]\n",
    "\n",
    "def get_unsatisfied_clauses(clauses, assignment):\n",
    "    #inefficient, parses the entire thing, use at least as possible\n",
    "    return [clause for clause in clauses if not evaluate_clause(clause, assignment)]\n",
    "\n",
    "def get_candidate_clauses(clauses, assignment):\n",
    "    #efficient, only grabs the clauses that are numbered in the membership,use at least as possible\n",
    "\n",
    "    \n",
    "def binarywalkSAT(cnf: CNF, max_tries=2, max_flips=1000, p=0.3):\n",
    "    membership = cnf.variable_membership()\n",
    "    clauses = cnf.clauses()\n",
    "    for _ in range(max_tries):\n",
    "        assignment = cnf.random_assignment()  #1 bit vector assignment\n",
    "        # unsat clause buffer\n",
    "        unsatisfied = get_unsatisfied_clauses(clauses, assignment) \n",
    "\n",
    "        for _ in range(max_flips):\n",
    "            if not unsatisfied:\n",
    "                return assignment  # If all unSat are Sat we are done\n",
    "            \n",
    "            clause = random.choice(unsatisfied)\n",
    "\n",
    "            if random.random() < p:\n",
    "                var_to_flip = abs(random.choice(clause))\n",
    "            else:\n",
    "                break_counts = []\n",
    "                for var in clause:\n",
    "                    # Temporary flip (3b in KM10):\n",
    "                    flip_variable(assignment, abs(var))\n",
    "                    break_counts.append((len(get_candidate_clauses(clauses, assignment)), abs(var)))\n",
    "                    flip_variable(assignment, abs(var))  # Undo the flip\n",
    "\n",
    "                min_break = min(break_counts, key=lambda x: x[0]) #from example above. \n",
    "                var_to_flip = min_break[1]\n",
    "            \n",
    "            flip_variable(assignment, var_to_flip)\n",
    "    return \"FAIL\"\n"
   ]
  },
  {
   "cell_type": "code",
   "execution_count": 136,
   "metadata": {},
   "outputs": [
    {
     "data": {
      "text/plain": [
       "'FAIL'"
      ]
     },
     "execution_count": 136,
     "metadata": {},
     "output_type": "execute_result"
    }
   ],
   "source": [
    "binarywalkSAT(cnf)"
   ]
  },
  {
   "cell_type": "code",
   "execution_count": 138,
   "metadata": {},
   "outputs": [
    {
     "ename": "TypeError",
     "evalue": "evaluate_clause() got an unexpected keyword argument 'flip_var'",
     "output_type": "error",
     "traceback": [
      "\u001b[1;31m---------------------------------------------------------------------------\u001b[0m",
      "\u001b[1;31mTypeError\u001b[0m                                 Traceback (most recent call last)",
      "Cell \u001b[1;32mIn[138], line 1\u001b[0m\n\u001b[1;32m----> 1\u001b[0m binarywalkSAT(cnf)\n",
      "Cell \u001b[1;32mIn[137], line 41\u001b[0m, in \u001b[0;36mbinarywalkSAT\u001b[1;34m(cnf, max_tries, max_flips, p)\u001b[0m\n\u001b[0;32m     39\u001b[0m     var_to_flip \u001b[38;5;241m=\u001b[39m \u001b[38;5;28mabs\u001b[39m(random\u001b[38;5;241m.\u001b[39mchoice(clause))\n\u001b[0;32m     40\u001b[0m \u001b[38;5;28;01melse\u001b[39;00m:\n\u001b[1;32m---> 41\u001b[0m     break_values \u001b[38;5;241m=\u001b[39m {var: calculate_break_value(variable_to_clauses, assignment, \u001b[38;5;28mabs\u001b[39m(var), unsatisfied) \u001b[38;5;28;01mfor\u001b[39;00m var \u001b[38;5;129;01min\u001b[39;00m clause}\n\u001b[0;32m     42\u001b[0m     var_to_flip, _ \u001b[38;5;241m=\u001b[39m \u001b[38;5;28mmin\u001b[39m(break_values\u001b[38;5;241m.\u001b[39mitems(), key\u001b[38;5;241m=\u001b[39m\u001b[38;5;28;01mlambda\u001b[39;00m x: x[\u001b[38;5;241m1\u001b[39m])\n\u001b[0;32m     44\u001b[0m flip_variable(assignment, var_to_flip)\n",
      "Cell \u001b[1;32mIn[137], line 21\u001b[0m, in \u001b[0;36mcalculate_break_value\u001b[1;34m(clauses, assignment, var, unsatisfied)\u001b[0m\n\u001b[0;32m     18\u001b[0m             make_value \u001b[38;5;241m+\u001b[39m\u001b[38;5;241m=\u001b[39m \u001b[38;5;241m1\u001b[39m\n\u001b[0;32m     19\u001b[0m     \u001b[38;5;28;01melse\u001b[39;00m:\n\u001b[0;32m     20\u001b[0m         \u001b[38;5;66;03m# If the clause is satisfied, check if flipping var would unsatisfy it.\u001b[39;00m\n\u001b[1;32m---> 21\u001b[0m         \u001b[38;5;28;01mif\u001b[39;00m evaluate_clause(clauses[clause_index], assignment, flip_var\u001b[38;5;241m=\u001b[39mvar):\n\u001b[0;32m     22\u001b[0m             break_value \u001b[38;5;241m+\u001b[39m\u001b[38;5;241m=\u001b[39m \u001b[38;5;241m1\u001b[39m\n\u001b[0;32m     23\u001b[0m \u001b[38;5;28;01mreturn\u001b[39;00m break_value \u001b[38;5;241m-\u001b[39m make_value\n",
      "\u001b[1;31mTypeError\u001b[0m: evaluate_clause() got an unexpected keyword argument 'flip_var'"
     ]
    }
   ],
   "source": [
    "binarywalkSAT(cnf)"
   ]
  }
 ],
 "metadata": {
  "kernelspec": {
   "display_name": "snn",
   "language": "python",
   "name": "python3"
  },
  "language_info": {
   "codemirror_mode": {
    "name": "ipython",
    "version": 3
   },
   "file_extension": ".py",
   "mimetype": "text/x-python",
   "name": "python",
   "nbconvert_exporter": "python",
   "pygments_lexer": "ipython3",
   "version": "3.12.2"
  }
 },
 "nbformat": 4,
 "nbformat_minor": 2
}
