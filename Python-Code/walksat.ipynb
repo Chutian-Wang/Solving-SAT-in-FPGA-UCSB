{
 "cells": [
  {
   "cell_type": "markdown",
   "metadata": {},
   "source": [
    "### WalkSAT plus Data Analysis of Results, Daniel Espinosa 2024 UCSB ECE Strukov Group + FPGA copy\n"
   ]
  },
  {
   "cell_type": "code",
   "execution_count": 1,
   "metadata": {},
   "outputs": [],
   "source": [
    "import numpy as np\n",
    "import pandas as pd\n",
    "import matplotlib.pyplot as plt\n",
    "import matplotlib as mpl\n",
    "from matplotlib.ticker import MultipleLocator,FormatStrFormatter,MaxNLocator\n",
    "import xml.etree.ElementTree as Xet"
   ]
  },
  {
   "cell_type": "code",
   "execution_count": 2,
   "metadata": {},
   "outputs": [
    {
     "name": "stdout",
     "output_type": "stream",
     "text": [
      "No satisfying assignment found within the given limits. FAIL\n"
     ]
    }
   ],
   "source": [
    "import random\n",
    "\n",
    "def walkSAT(clauses, max_tries, max_flips, p):\n",
    "    def evaluate_clause(clause, assignment):\n",
    "        return any((var > 0 and assignment.get(abs(var), False)) or \n",
    "                   (var < 0 and not assignment.get(abs(var), False)) for var in clause)\n",
    "\n",
    "    def get_unsatisfied_clauses(clauses, assignment):\n",
    "        return [clause for clause in clauses if not evaluate_clause(clause, assignment)]\n",
    "\n",
    "    def get_variables(clauses):\n",
    "        return set(abs(var) for clause in clauses for var in clause)\n",
    "\n",
    "    def flip_variable(assignment, var):\n",
    "        assignment[var] = not assignment[var]\n",
    "\n",
    "    for _ in range(max_tries):\n",
    "        variables = list(get_variables(clauses))\n",
    "        assignment = {var: random.choice([True, False]) for var in variables}\n",
    "        \n",
    "        for _ in range(max_flips):\n",
    "            unsatisfied = get_unsatisfied_clauses(clauses, assignment)\n",
    "            if not unsatisfied:\n",
    "                return assignment  # Found a satisfying assignment\n",
    "            \n",
    "            clause = random.choice(unsatisfied)\n",
    "            if random.random() < p:\n",
    "                # Flip a random variable from the clause\n",
    "                var_to_flip = abs(random.choice(clause))\n",
    "            else:\n",
    "                # Flip a variable that minimizes the number of unsatisfied clauses if flipped\n",
    "                break_counts = []\n",
    "                for var in clause:\n",
    "                    assignment[abs(var)] = not assignment[abs(var)]\n",
    "                    break_counts.append((len(get_unsatisfied_clauses(clauses, assignment)), abs(var)))\n",
    "                    assignment[abs(var)] = not assignment[abs(var)]  # Undo the flip\n",
    "\n",
    "                min_break = min(break_counts, key=lambda x: x[0])\n",
    "                vars_with_min_break = [var for break_count, var in break_counts if break_count == min_break[0]]\n",
    "                var_to_flip = random.choice(vars_with_min_break)\n",
    "            \n",
    "            flip_variable(assignment, var_to_flip)\n",
    "\n",
    "    return \"FAIL\"\n",
    "\n",
    "# Example SAT CNF formula: (x1 or not x2) and (not x1 or x2)\n",
    "# clauses = [[1, -2],[-1,2]]\n",
    "# Example UNSAT CNF formula: \n",
    "clauses = [[1, 2],[-1,-2],[1,-2],[-1,2]]\n",
    "# Parameters\n",
    "max_tries = 100\n",
    "max_flips = 1000\n",
    "p = 0.3\n",
    "\n",
    "# Running WalkSAT\n",
    "result = walkSAT(clauses, max_tries, max_flips, p)\n",
    "print(\"Satisfying assignment found:\" if result != \"FAIL\" else \"No satisfying assignment found within the given limits.\", result)"
   ]
  },
  {
   "cell_type": "markdown",
   "metadata": {},
   "source": [
    "Now, structuring this based on the PDF using binary values for everything"
   ]
  },
  {
   "cell_type": "code",
   "execution_count": 3,
   "metadata": {},
   "outputs": [],
   "source": [
    "def parse_cnf_file(file_path):\n",
    "    num_vars = 0\n",
    "    num_clauses = 0\n",
    "    clauses = []\n",
    "\n",
    "    with open(file_path, 'r') as file:\n",
    "        for line in file:\n",
    "            # Strip leading and trailing whitespace\n",
    "            line = line.strip()\n",
    "\n",
    "            # Ignore comment lines\n",
    "            if line.startswith('c'):\n",
    "                continue\n",
    "            \n",
    "            # Process the problem line\n",
    "            elif line.startswith('p'):\n",
    "                parts = line.split()\n",
    "                if len(parts) == 4 and parts[1] == 'cnf':\n",
    "                    num_vars = int(parts[2])\n",
    "                    num_clauses = int(parts[3])\n",
    "            \n",
    "            # Process clause lines\n",
    "            else:\n",
    "                # Convert numbers to integers and remove the trailing 0\n",
    "                clause = [int(x) for x in line.split()[:-1]]\n",
    "                clauses.append(clause)\n",
    "    \n",
    "    return num_vars, num_clauses, clauses\n",
    "\n",
    "def random_assignment(cnf):\n",
    "#    Assuming cnf.variables is an iterable of variable identifiers\n",
    "    return {var: random.choice([1, 0]) for var in cnf.variables}"
   ]
  },
  {
   "cell_type": "code",
   "execution_count": 45,
   "metadata": {},
   "outputs": [],
   "source": [
    "parse_cnf_file('mnci_n16_t3_0_3sat.cnf')\n",
    "\n",
    "class CNF:\n",
    "    def __init__(self, num_vars, num_clauses, clauses):\n",
    "        self.num_vars = num_vars\n",
    "        self.num_clauses = num_clauses\n",
    "        self.clauses = clauses\n",
    "\n",
    "    def __str__(self,verbose=False):\n",
    "        description = f\"CNF Formula with {self.num_vars} variables and {self.num_clauses} clauses:\\n\"\n",
    "        if verbose: \n",
    "            for clause in self.clauses:\n",
    "                description += \" \".join(str(var) for var in clause) + \" 0\\n\"\n",
    "        return description\n",
    "\n",
    "    def variables(self):\n",
    "        return range(self.num_vars)\n",
    "    \n",
    "    def random_assignment(self):\n",
    "        return [random.choice([0, 1]) for var in CNF.variables(self)]\n",
    "    \n",
    "    def variable_membership(self):\n",
    "        # We are making this so we can quickly make a LUT to see where variables are\n",
    "        # To update only parts of the CNF and not handle the whole thing at once.\n",
    "        # Maps each variable to the clauses it appears in (by index)\n",
    "        \"\"\"\n",
    "        Usage: cnf.variable_membership.get(literal_integer) gives us all the clause\n",
    "        numbers that the literal is a part of. Once we have all the memberships\n",
    "        we can encode them to a single binary number later.\n",
    "        \"\"\"\n",
    "        membership = {var: [] for var in self.variables()}\n",
    "        for clause_index, clause in enumerate(self.clauses):\n",
    "            for var in clause:\n",
    "                var = abs(var)  # Consider the variable, not its negation\n",
    "                if var in membership:\n",
    "                    membership[var].append(clause_index)\n",
    "        return membership\n",
    "\n",
    "    def add_clause(self, clause):\n",
    "        self.clauses.append(clause)\n",
    "        self.num_clauses += 1"
   ]
  },
  {
   "cell_type": "code",
   "execution_count": 46,
   "metadata": {},
   "outputs": [],
   "source": [
    "outputs = parse_cnf_file('mnci_n16_t3_0_3sat.cnf')\n",
    "cnf = CNF(outputs[0],outputs[1],outputs[2])"
   ]
  },
  {
   "cell_type": "code",
   "execution_count": 48,
   "metadata": {},
   "outputs": [
    {
     "data": {
      "text/plain": [
       "[24, 25, 26, 27, 28, 29, 30, 31, 32, 33, 34, 35, 260, 261, 262, 263, 264, 265]"
      ]
     },
     "execution_count": 48,
     "metadata": {},
     "output_type": "execute_result"
    }
   ],
   "source": [
    "cnf.variable_membership().get(1)"
   ]
  },
  {
   "cell_type": "code",
   "execution_count": null,
   "metadata": {},
   "outputs": [],
   "source": [
    "def binarywalkSAT(cnf: CNF):\n",
    "\n",
    "    membership_dictionary = cnf.variable_membership()\n",
    "    start = cnf.random_assignment()\n",
    "    \n",
    "    unsat_buffer = [] # unsat_buffer = matrix 3 x N_clauses ((negation, variable value)x3)\n",
    "    \n",
    "\n",
    "    def evaluate_clause(clause, assignment):\n",
    "        return any((var > 0 and assignment.get(abs(var), False)) or \n",
    "                   (var < 0 and not assignment.get(abs(var), False)) for var in clause)\n",
    "\n",
    "    def get_unsatisfied_clauses(clauses, assignment):\n",
    "        return [clause for clause in clauses if not evaluate_clause(clause, assignment)]\n",
    "\n",
    "    def get_variables(clauses):\n",
    "        return set(abs(var) for clause in clauses for var in clause)\n",
    "\n",
    "    def flip_variable(assignment, var):\n",
    "        assignment[var] = not assignment[var]\n",
    "\n",
    "    for _ in range(max_tries):\n",
    "        variables = list(get_variables(clauses))\n",
    "        assignment = {var: random.choice([True, False]) for var in variables}\n",
    "        \n",
    "        for _ in range(max_flips):\n",
    "            unsatisfied = get_unsatisfied_clauses(clauses, assignment)\n",
    "            if not unsatisfied:\n",
    "                return assignment  # Found a satisfying assignment\n",
    "            \n",
    "            clause = random.choice(unsatisfied)\n",
    "            if random.random() < p:\n",
    "                # Flip a random variable from the clause\n",
    "                var_to_flip = abs(random.choice(clause))\n",
    "            else:\n",
    "                # Flip a variable that minimizes the number of unsatisfied clauses if flipped\n",
    "                break_counts = []\n",
    "                for var in clause:\n",
    "                    assignment[abs(var)] = not assignment[abs(var)]\n",
    "                    break_counts.append((len(get_unsatisfied_clauses(clauses, assignment)), abs(var)))\n",
    "                    assignment[abs(var)] = not assignment[abs(var)]  # Undo the flip\n",
    "\n",
    "                min_break = min(break_counts, key=lambda x: x[0])\n",
    "                vars_with_min_break = [var for break_count, var in break_counts if break_count == min_break[0]]\n",
    "                var_to_flip = random.choice(vars_with_min_break)\n",
    "            \n",
    "            flip_variable(assignment, var_to_flip)\n",
    "\n",
    "    return \"FAIL\"\n"
   ]
  }
 ],
 "metadata": {
  "kernelspec": {
   "display_name": "snn",
   "language": "python",
   "name": "python3"
  },
  "language_info": {
   "codemirror_mode": {
    "name": "ipython",
    "version": 3
   },
   "file_extension": ".py",
   "mimetype": "text/x-python",
   "name": "python",
   "nbconvert_exporter": "python",
   "pygments_lexer": "ipython3",
   "version": "3.12.2"
  }
 },
 "nbformat": 4,
 "nbformat_minor": 2
}
