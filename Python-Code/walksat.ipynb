{
 "cells": [
  {
   "cell_type": "markdown",
   "metadata": {},
   "source": [
    "### WalkSAT plus Data Analysis of Results, Daniel Espinosa 2024 UCSB ECE Strukov Group + FPGA copy\n"
   ]
  },
  {
   "cell_type": "code",
   "execution_count": 1,
   "metadata": {},
   "outputs": [],
   "source": [
    "import numpy as np\n",
    "import pandas as pd\n",
    "import matplotlib.pyplot as plt\n",
    "import matplotlib as mpl\n",
    "from matplotlib.ticker import MultipleLocator,FormatStrFormatter,MaxNLocator\n",
    "import xml.etree.ElementTree as Xet"
   ]
  },
  {
   "cell_type": "code",
   "execution_count": 2,
   "metadata": {},
   "outputs": [
    {
     "name": "stdout",
     "output_type": "stream",
     "text": [
      "No satisfying assignment found within the given limits. FAIL\n"
     ]
    }
   ],
   "source": [
    "import random\n",
    "\n",
    "def walkSAT(clauses, max_tries, max_flips, p):\n",
    "    def evaluate_clause(clause, assignment):\n",
    "        return any((var > 0 and assignment.get(abs(var), False)) or \n",
    "                   (var < 0 and not assignment.get(abs(var), False)) for var in clause)\n",
    "\n",
    "    def get_unsatisfied_clauses(clauses, assignment):\n",
    "        return [clause for clause in clauses if not evaluate_clause(clause, assignment)]\n",
    "\n",
    "    def get_variables(clauses):\n",
    "        return set(abs(var) for clause in clauses for var in clause)\n",
    "\n",
    "    def flip_variable(assignment, var):\n",
    "        assignment[var] = not assignment[var]\n",
    "\n",
    "    for _ in range(max_tries):\n",
    "        variables = list(get_variables(clauses))\n",
    "        assignment = {var: random.choice([True, False]) for var in variables}\n",
    "        \n",
    "        for _ in range(max_flips):\n",
    "            unsatisfied = get_unsatisfied_clauses(clauses, assignment)\n",
    "            if not unsatisfied:\n",
    "                return assignment  # Found a satisfying assignment\n",
    "            \n",
    "            clause = random.choice(unsatisfied)\n",
    "            if random.random() < p:\n",
    "                # Flip a random variable from the clause\n",
    "                var_to_flip = abs(random.choice(clause))\n",
    "            else:\n",
    "                # Flip a variable that minimizes the number of unsatisfied clauses if flipped\n",
    "                break_counts = []\n",
    "                for var in clause:\n",
    "                    assignment[abs(var)] = not assignment[abs(var)]\n",
    "                    break_counts.append((len(get_unsatisfied_clauses(clauses, assignment)), abs(var)))\n",
    "                    assignment[abs(var)] = not assignment[abs(var)]  # Undo the flip\n",
    "\n",
    "                min_break = min(break_counts, key=lambda x: x[0])\n",
    "                vars_with_min_break = [var for break_count, var in break_counts if break_count == min_break[0]]\n",
    "                var_to_flip = random.choice(vars_with_min_break)\n",
    "            \n",
    "            flip_variable(assignment, var_to_flip)\n",
    "\n",
    "    return \"FAIL\"\n",
    "\n",
    "# Example SAT CNF formula: (x1 or not x2) and (not x1 or x2)\n",
    "# clauses = [[1, -2],[-1,2]]\n",
    "# Example UNSAT CNF formula: \n",
    "clauses = [[1, 2],[-1,-2],[1,-2],[-1,2]]\n",
    "# Parameters\n",
    "max_tries = 100\n",
    "max_flips = 1000\n",
    "p = 0.3\n",
    "\n",
    "# Running WalkSAT\n",
    "result = walkSAT(clauses, max_tries, max_flips, p)\n",
    "print(\"Satisfying assignment found:\" if result != \"FAIL\" else \"No satisfying assignment found within the given limits.\", result)"
   ]
  },
  {
   "cell_type": "markdown",
   "metadata": {},
   "source": [
    "Now, structuring this based on the PDF using binary values for everything"
   ]
  },
  {
   "cell_type": "code",
   "execution_count": 3,
   "metadata": {},
   "outputs": [],
   "source": [
    "def parse_cnf_file(file_path):\n",
    "    num_vars = 0\n",
    "    num_clauses = 0\n",
    "    clauses = []\n",
    "\n",
    "    with open(file_path, 'r') as file:\n",
    "        for line in file:\n",
    "            # Strip leading and trailing whitespace\n",
    "            line = line.strip()\n",
    "\n",
    "            # Ignore comment lines\n",
    "            if line.startswith('c'):\n",
    "                continue\n",
    "            \n",
    "            # Process the problem line\n",
    "            elif line.startswith('p'):\n",
    "                parts = line.split()\n",
    "                if len(parts) == 4 and parts[1] == 'cnf':\n",
    "                    num_vars = int(parts[2])\n",
    "                    num_clauses = int(parts[3])\n",
    "            \n",
    "            # Process clause lines\n",
    "            else:\n",
    "                # Convert numbers to integers and remove the trailing 0\n",
    "                clause = [int(x) for x in line.split()[:-1]]\n",
    "                clauses.append(clause)\n",
    "    \n",
    "    return num_vars, num_clauses, clauses\n",
    "\n",
    "def random_assignment(cnf):\n",
    "#    Assuming cnf.variables is an iterable of variable identifiers\n",
    "    return {var: random.choice([1, 0]) for var in cnf.variables}"
   ]
  },
  {
   "cell_type": "code",
   "execution_count": 45,
   "metadata": {},
   "outputs": [],
   "source": [
    "parse_cnf_file('mnci_n16_t3_0_3sat.cnf')\n",
    "\n",
    "class CNF:\n",
    "    def __init__(self, num_vars, num_clauses, clauses):\n",
    "        self.num_vars = num_vars\n",
    "        self.num_clauses = num_clauses\n",
    "        self.clauses = clauses\n",
    "\n",
    "    def __str__(self,verbose=False):\n",
    "        description = f\"CNF Formula with {self.num_vars} variables and {self.num_clauses} clauses:\\n\"\n",
    "        if verbose: \n",
    "            for clause in self.clauses:\n",
    "                description += \" \".join(str(var) for var in clause) + \" 0\\n\"\n",
    "        return description\n",
    "\n",
    "    def variables(self):\n",
    "        return range(self.num_vars)\n",
    "    \n",
    "    def random_assignment(self):\n",
    "        return [random.choice([0, 1]) for var in CNF.variables(self)]\n",
    "    \n",
    "    def variable_membership(self):\n",
    "        # We are making this so we can quickly make a LUT to see where variables are\n",
    "        # To update only parts of the CNF and not handle the whole thing at once.\n",
    "        # Maps each variable to the clauses it appears in (by index)\n",
    "        \"\"\"\n",
    "        Usage: cnf.variable_membership.get(literal_integer) gives us all the clause\n",
    "        numbers that the literal is a part of. Once we have all the memberships\n",
    "        we can encode them to a single binary number later.\n",
    "        \"\"\"\n",
    "        membership = {var: [] for var in self.variables()}\n",
    "        for clause_index, clause in enumerate(self.clauses):\n",
    "            for var in clause:\n",
    "                var = abs(var)  # Consider the variable, not its negation\n",
    "                if var in membership:\n",
    "                    membership[var].append(clause_index)\n",
    "        return membership\n",
    "\n",
    "    def add_clause(self, clause):\n",
    "        self.clauses.append(clause)\n",
    "        self.num_clauses += 1"
   ]
  },
  {
   "cell_type": "code",
   "execution_count": 46,
   "metadata": {},
   "outputs": [],
   "source": [
    "outputs = parse_cnf_file('mnci_n16_t3_0_3sat.cnf')\n",
    "cnf = CNF(outputs[0],outputs[1],outputs[2])"
   ]
  },
  {
   "cell_type": "code",
   "execution_count": 64,
   "metadata": {},
   "outputs": [
    {
     "data": {
      "text/plain": [
       "[24, 25, 26, 27, 28, 29, 30, 31, 32, 33, 34, 35, 260, 261, 262, 263, 264, 265]"
      ]
     },
     "execution_count": 64,
     "metadata": {},
     "output_type": "execute_result"
    }
   ],
   "source": [
    "cnf.variable_membership().get(1)"
   ]
  },
  {
   "cell_type": "code",
   "execution_count": 66,
   "metadata": {},
   "outputs": [],
   "source": [
    "start = cnf.random_assignment() "
   ]
  },
  {
   "cell_type": "code",
   "execution_count": 68,
   "metadata": {},
   "outputs": [
    {
     "data": {
      "text/plain": [
       "0"
      ]
     },
     "execution_count": 68,
     "metadata": {},
     "output_type": "execute_result"
    }
   ],
   "source": [
    "start[10]"
   ]
  },
  {
   "cell_type": "code",
   "execution_count": 72,
   "metadata": {},
   "outputs": [
    {
     "data": {
      "text/plain": [
       "[17, 13]"
      ]
     },
     "execution_count": 72,
     "metadata": {},
     "output_type": "execute_result"
    }
   ],
   "source": [
    "cnf.clauses[0]"
   ]
  },
  {
   "cell_type": "code",
   "execution_count": 107,
   "metadata": {},
   "outputs": [
    {
     "name": "stdout",
     "output_type": "stream",
     "text": [
      "True\n"
     ]
    },
    {
     "data": {
      "text/plain": [
       "[[20, 16],\n",
       " [30, 15],\n",
       " [35, 14],\n",
       " [-47, 16],\n",
       " [-18, -12, -19],\n",
       " [-19, 14, 20],\n",
       " [21, 5, -22],\n",
       " [-23, 10, 24],\n",
       " [24, 15, -25],\n",
       " [26, 6, -27],\n",
       " [-29, 14, 30],\n",
       " [31, 3, -32],\n",
       " [31, 4, -36],\n",
       " [31, 5, -58],\n",
       " [-32, 4, 64],\n",
       " [-32, 5, 72],\n",
       " [-32, -7, -33],\n",
       " [-33, 8, 34],\n",
       " [34, -12, 35],\n",
       " [-36, 5, 37],\n",
       " [-39, 10, 40],\n",
       " [40, -12, 41],\n",
       " [41, 13, -42],\n",
       " [45, 10, -46],\n",
       " [50, 15, -51],\n",
       " [52, 6, -53],\n",
       " [-54, -11, -55],\n",
       " [56, 14, -57],\n",
       " [-58, 6, 59],\n",
       " [-60, 8, 61],\n",
       " [-62, 13, 63],\n",
       " [64, 5, -65],\n",
       " [68, 10, -69],\n",
       " [-69, -11, -70],\n",
       " [-70, -12, -71],\n",
       " [74, 14, -75],\n",
       " [1, 2, -76],\n",
       " [3, -79],\n",
       " [77, -81],\n",
       " [-81],\n",
       " [-82, 5, 86],\n",
       " [5, -87],\n",
       " [-84, -87, -88],\n",
       " [-84, -87, 89],\n",
       " [85, 89, -90],\n",
       " [85, -91],\n",
       " [89, -91],\n",
       " [-91],\n",
       " [86, 6, -92],\n",
       " [-88, 93, 94],\n",
       " [95, -97],\n",
       " [-97],\n",
       " [-92, -7, -98],\n",
       " [94, -99, 100],\n",
       " [-96, 101, 102],\n",
       " [101, -103],\n",
       " [-103],\n",
       " [8, -105],\n",
       " [100, -105, 106],\n",
       " [100, -107],\n",
       " [102, -107, 108],\n",
       " [-104, 9, 110],\n",
       " [9, -111],\n",
       " [108, 113, -114],\n",
       " [108, -115],\n",
       " [113, -115],\n",
       " [109, -115, 116],\n",
       " [109, -117],\n",
       " [-117],\n",
       " [110, 10, -118],\n",
       " [110, -119],\n",
       " [10, -119],\n",
       " [-112, -119, -120],\n",
       " [116, -123, 124],\n",
       " [-118, -11, -126],\n",
       " [-118, -11, 127],\n",
       " [122, 129, -130],\n",
       " [122, -131],\n",
       " [129, -131],\n",
       " [124, -133],\n",
       " [-133],\n",
       " [-126, -12, -134],\n",
       " [-126, -12, 135],\n",
       " [-128, 135, 136],\n",
       " [-130, 137, 138],\n",
       " [-132, 139, 140],\n",
       " [13, -143],\n",
       " [136, -145],\n",
       " [138, -145, 146],\n",
       " [140, -149],\n",
       " [147, -149],\n",
       " [-149],\n",
       " [146, -155],\n",
       " [153, -155],\n",
       " [148, -155, 156],\n",
       " [148, -157],\n",
       " [-157],\n",
       " [-150, 15, 158],\n",
       " [-152, 159, 160],\n",
       " [159, -161],\n",
       " [154, -161, 162],\n",
       " [156, 163, -164],\n",
       " [156, -165],\n",
       " [163, -165],\n",
       " [-165],\n",
       " [158, 16, -166],\n",
       " [160, 167, -168],\n",
       " [160, -169],\n",
       " [167, -169],\n",
       " [162, -171],\n",
       " [-164, -171, -172],\n",
       " [-170],\n",
       " [-172],\n",
       " [-173]]"
      ]
     },
     "execution_count": 107,
     "metadata": {},
     "output_type": "execute_result"
    }
   ],
   "source": [
    "membership_dictionary = cnf.variable_membership()\n",
    "#[x in range(10), cnf.clauses[membership_dictionary.get(1)[x]]]\n",
    "\n",
    "start = cnf.random_assignment() \n",
    "testclause = cnf.clauses[0]\n",
    "\n",
    "def evaluate_clause(clause, assignment):\n",
    "    return any((var > 0 and assignment[abs(var) - 1]) or \n",
    "               (var < 0 and not assignment[abs(var) - 1]) for var in clause)\n",
    "\n",
    "def get_unsatisfied_clauses(clauses, assignment):\n",
    "    # We are doing this to build the UNSAT buffer for the algorithm\n",
    "    return [clause for clause in clauses if not evaluate_clause(clause, assignment)]\n",
    "\n",
    "print(evaluate_clause(testclause, start))\n",
    "get_unsatisfied_clauses(cnf.clauses, start)"
   ]
  },
  {
   "cell_type": "code",
   "execution_count": null,
   "metadata": {},
   "outputs": [],
   "source": [
    "# Now, complete method which is an exact copy of what they are doing in the paper.\n",
    "\n",
    "def evaluate_clause(clause, assignment):\n",
    "    return any((var > 0 and assignment[abs(var) - 1]) or \n",
    "               (var < 0 and not assignment[abs(var) - 1]) for var in clause)\n",
    "\n",
    "def flip_variable(assignment, var):\n",
    "    assignment[var] = not assignment[var]\n",
    "\n",
    "def get_unsatisfied_clauses(clauses, assignment):\n",
    "    return [clause for clause in clauses if not evaluate_clause(clause, assignment)]\n",
    "\n",
    "def get_candidate_clauses(clauses,assignment):\n",
    "    return [clause for clause in clauses if evaluate_clause(clause, assignment)]\n",
    "\n",
    "def binarywalkSAT(cnf: CNF, max_tries=100, max_flips=1000, p=0.3):\n",
    "    start = cnf.random_assignment() \n",
    "\n",
    "    for _ in range(max_tries):\n",
    "        assignment = start.copy() #1 bit vector assignment\n",
    "        # unsat clause buffer\n",
    "        unsatisfied = get_unsatisfied_clauses(cnf.clauses, assignment) \n",
    "\n",
    "        for _ in range(max_flips):\n",
    "            if not unsatisfied:\n",
    "                return assignment  # If all unsat are sat we are done\n",
    "            \n",
    "            clause = random.choice(unsatisfied)\n",
    "\n",
    "            if random.random() < p:\n",
    "                var_to_flip = abs(random.choice(clause))\n",
    "            else:\n",
    "                break_counts = []\n",
    "                for var in clause:\n",
    "                    # Temporary flip (3b in KM10):\n",
    "                    flip_variable(assignment, abs(var))\n",
    "                    break_counts.append((len(get_unsatisfied_clauses(cnf.clauses, assignment)), abs(var)))\n",
    "                    flip_variable(assignment, abs(var))  # Undo the flip\n",
    "\n",
    "                min_break = min(break_counts, key=lambda x: x[0])\n",
    "                var_to_flip = random.choice([var for _, var in break_counts if _ == min_break[0]])\n",
    "            \n",
    "            flip_variable(assignment, var_to_flip)\n",
    "\n",
    "    return \"FAIL\"\n"
   ]
  }
 ],
 "metadata": {
  "kernelspec": {
   "display_name": "snn",
   "language": "python",
   "name": "python3"
  },
  "language_info": {
   "codemirror_mode": {
    "name": "ipython",
    "version": 3
   },
   "file_extension": ".py",
   "mimetype": "text/x-python",
   "name": "python",
   "nbconvert_exporter": "python",
   "pygments_lexer": "ipython3",
   "version": "3.12.2"
  }
 },
 "nbformat": 4,
 "nbformat_minor": 2
}
