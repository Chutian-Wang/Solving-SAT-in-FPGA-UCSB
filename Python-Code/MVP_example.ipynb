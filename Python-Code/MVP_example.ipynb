{
 "cells": [
  {
   "cell_type": "code",
   "execution_count": null,
   "id": "a1a6cced",
   "metadata": {},
   "outputs": [],
   "source": [
    "from pynq import Overlay\n",
    "from pynq import MMIO\n",
    "from MvpDriver import MvpDriver"
   ]
  },
  {
   "cell_type": "code",
   "execution_count": null,
   "id": "f47c3e9b",
   "metadata": {},
   "outputs": [],
   "source": [
    "overlay = Overlay(\"./overlays/MVP_example/MVP_example.bit\")\n",
    "# This shows the documentation for the MVP driver\n",
    "help(overlay.Module_Validation_Pl_0)"
   ]
  },
  {
   "cell_type": "code",
   "execution_count": null,
   "id": "16700ea8",
   "metadata": {},
   "outputs": [],
   "source": [
    "# Define I/O address and masks\n",
    "LED_ADDR = 0x00\n",
    "LED_MASK = 0x0f\n",
    "\n",
    "BTN_ADDR = 0x00\n",
    "BTN_MASK = 0x0f\n",
    "\n",
    "# Define axi BRAM controller address\n",
    "IP_BASE_ADDRESS       = 0x40000000\n",
    "AXI_BRAM_CTRL_OFFSET  = 0x00\n",
    "AXI_BRAM_CTRL_RANGE   = 0x4000\n",
    "\n",
    "# Make MMIO object for BRAM access directly through AXI\n",
    "mmio = MMIO(IP_BASE_ADDRESS, AXI_BRAM_CTRL_RANGE)\n",
    "\n",
    "def read_BRAM_axi(addr:int)->int:\n",
    "    return mmio.read(AXI_BRAM_CTRL_OFFSET + addr)\n",
    "\n",
    "def write_BRAM_axi(addr:int, val:int):\n",
    "    mmio.write(AXI_BRAM_CTRL_OFFSET + addr, val)"
   ]
  },
  {
   "cell_type": "code",
   "execution_count": null,
   "id": "d7553782",
   "metadata": {},
   "outputs": [],
   "source": [
    "# An external I/O demo\n",
    "# This section uses real time input\n",
    "while True:\n",
    "    # The 4 bit buttons and leds are mapped to address 0x00\n",
    "    data = overlay.Module_Validation_Pl_0.read_rt_input(LED_ADDR) & LED_MASK\n",
    "    overlay.Module_Validation_Pl_0.write_oreg(BTN_ADDR, data & BTN_MASK)"
   ]
  },
  {
   "cell_type": "code",
   "execution_count": null,
   "id": "02501508",
   "metadata": {},
   "outputs": [],
   "source": [
    "# A demo of the input capture mode\n",
    "from time import sleep\n",
    "# before capture the input registers are reset\n",
    "print(overlay.Module_Validation_Pl_0.read_captured_input(LED_ADDR) & LED_MASK)\n",
    "\n",
    "# Capture input after 5 seconds\n",
    "sleep(5)\n",
    "overlay.Module_Validation_Pl_0.capture()\n",
    "print(overlay.Module_Validation_Pl_0.read_captured_input(LED_ADDR) & LED_MASK)\n",
    "\n",
    "# Now the captured input will hold\n",
    "sleep(5)\n",
    "print(overlay.Module_Validation_Pl_0.read_captured_input(LED_ADDR) & LED_MASK)"
   ]
  },
  {
   "cell_type": "code",
   "execution_count": null,
   "id": "44ccc7f4",
   "metadata": {},
   "outputs": [],
   "source": [
    "# BRAM R/W through MVP and AXI MMIO direct validation\n",
    "for i in range(0, AXI_BRAM_CTRL_RANGE, 4):\n",
    "    write_BRAM_axi(i, 0xdeadbeef + i)\n",
    "for i in range(0, AXI_BRAM_CTRL_RANGE, 4):\n",
    "    data = read_BRAM_axi(i)\n",
    "    data = overlay.Module_Validation_Pl_0.read_BRAM(i)\n",
    "    assert(0xdeadbeef + i == data)\n",
    "    overlay.Module_Validation_Pl_0.write_BRAM(i, 0xdeadbeef - i)\n",
    "for i in range(0, AXI_BRAM_CTRL_RANGE, 4):\n",
    "    data = overlay.Module_Validation_Pl_0.read_BRAM(i)\n",
    "    assert(0xdeadbeef - i == data)\n",
    "\n",
    "print(f\"BRAM r/w success over {AXI_BRAM_CTRL_RANGE} bytes\")"
   ]
  },
  {
   "cell_type": "code",
   "execution_count": null,
   "id": "bd22c39b",
   "metadata": {},
   "outputs": [],
   "source": []
  }
 ],
 "metadata": {
  "kernelspec": {
   "display_name": "Python 3 (ipykernel)",
   "language": "python",
   "name": "python3"
  },
  "language_info": {
   "codemirror_mode": {
    "name": "ipython",
    "version": 3
   },
   "file_extension": ".py",
   "mimetype": "text/x-python",
   "name": "python",
   "nbconvert_exporter": "python",
   "pygments_lexer": "ipython3",
   "version": "3.10.4"
  }
 },
 "nbformat": 4,
 "nbformat_minor": 5
}
