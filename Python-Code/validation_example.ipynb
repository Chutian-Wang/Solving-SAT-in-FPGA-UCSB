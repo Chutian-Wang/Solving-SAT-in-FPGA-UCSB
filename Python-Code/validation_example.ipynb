{
 "cells": [
  {
   "cell_type": "code",
   "execution_count": null,
   "id": "a1a6cced",
   "metadata": {},
   "outputs": [],
   "source": [
    "from pynq import Overlay\n",
    "from MvpDriver import MvpDriver"
   ]
  },
  {
   "cell_type": "code",
   "execution_count": null,
   "id": "f47c3e9b",
   "metadata": {},
   "outputs": [],
   "source": [
    "overlay = Overlay(\"./overlays/validation_example/validation_example.bit\")\n",
    "# This shows the documentation for the MVP driver\n",
    "help(overlay.MVP)"
   ]
  },
  {
   "cell_type": "code",
   "execution_count": null,
   "id": "16700ea8",
   "metadata": {},
   "outputs": [],
   "source": [
    "# Define I/O address and masks\n",
    "LED_ADDR = 0x00\n",
    "LED_MASK = 0x0f\n",
    "\n",
    "BTN_ADDR = 0x00\n",
    "BTN_MASK = 0x0f"
   ]
  },
  {
   "cell_type": "code",
   "execution_count": null,
   "id": "d7553782",
   "metadata": {},
   "outputs": [],
   "source": [
    "# An external I/O demo\n",
    "while True:\n",
    "    # The 4 bit buttons and leds are mapped to address 0x00\n",
    "    data = overlay.MVP.read_rt_input(LED_ADDR) & LED_MASK\n",
    "    overlay.MVP.write_oreg(BTN_ADDR, data & BTN_MASK)"
   ]
  },
  {
   "cell_type": "code",
   "execution_count": null,
   "id": "02501508",
   "metadata": {},
   "outputs": [],
   "source": [
    "# A demo of the input capture mode\n",
    "from time import sleep\n",
    "print(overlay.MVP.read_captured_input(LED_ADDR) & LED_MASK)\n",
    "sleep(5)\n",
    "overlay.MVP.capture()\n",
    "print(overlay.MVP.read_captured_input(LED_ADDR) & LED_MASK)"
   ]
  },
  {
   "cell_type": "code",
   "execution_count": null,
   "id": "fd447617",
   "metadata": {},
   "outputs": [],
   "source": [
    "print(overlay.MVP.read_rt_input(LED_ADDR) & LED_MASK)"
   ]
  },
  {
   "cell_type": "code",
   "execution_count": null,
   "id": "44ccc7f4",
   "metadata": {},
   "outputs": [],
   "source": [
    "for i in range(0, 4096, 4):\n",
    "    overlay.MVP.write_BRAM(i, i)\n",
    "for i in range(0, 4096, 4):\n",
    "    assert(overlay.MVP.read_BRAM(i) == i)\n",
    "print(\"BRAM r/w success over 4096 bytes\")"
   ]
  },
  {
   "cell_type": "code",
   "execution_count": null,
   "id": "44a30e68",
   "metadata": {},
   "outputs": [],
   "source": []
  }
 ],
 "metadata": {
  "kernelspec": {
   "display_name": "Python 3 (ipykernel)",
   "language": "python",
   "name": "python3"
  },
  "language_info": {
   "codemirror_mode": {
    "name": "ipython",
    "version": 3
   },
   "file_extension": ".py",
   "mimetype": "text/x-python",
   "name": "python",
   "nbconvert_exporter": "python",
   "pygments_lexer": "ipython3",
   "version": "3.10.4"
  }
 },
 "nbformat": 4,
 "nbformat_minor": 5
}
